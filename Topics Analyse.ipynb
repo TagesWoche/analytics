{
 "cells": [
  {
   "cell_type": "code",
   "execution_count": 1,
   "metadata": {
    "collapsed": true
   },
   "outputs": [],
   "source": [
    "%matplotlib inline\n",
    "\n",
    "from IPython.core.interactiveshell import InteractiveShell\n",
    "from datetime import datetime\n",
    "\n",
    "import os\n",
    "\n",
    "import glob\n",
    "import pandas as pd\n",
    "import numpy as np\n",
    "import seaborn as sns\n",
    "import matplotlib\n",
    "import matplotlib.pyplot as plt\n",
    "from matplotlib.backends.backend_pdf import PdfPages\n",
    "from pandas.io.json import json_normalize\n",
    "\n",
    "import urllib.request\n",
    "import json\n",
    "import codecs\n",
    "from google2pandas import *\n",
    "\n",
    "InteractiveShell.ast_node_interactivity = \"all\"\n",
    "matplotlib.rcParams['svg.fonttype'] = 'none'"
   ]
  },
  {
   "cell_type": "code",
   "execution_count": 2,
   "metadata": {
    "collapsed": true
   },
   "outputs": [],
   "source": [
    "start = '2016-06-01'\n",
    "end = '2017-05-03'"
   ]
  },
  {
   "cell_type": "code",
   "execution_count": 3,
   "metadata": {
    "collapsed": false
   },
   "outputs": [],
   "source": [
    "conn = GoogleAnalyticsQuery(token_file_name='analytics.dat', secrets='client_secrets_v3.json')"
   ]
  },
  {
   "cell_type": "code",
   "execution_count": 4,
   "metadata": {
    "collapsed": false
   },
   "outputs": [],
   "source": [
    "query_pageviews = {\\\n",
    "    'ids' : '48980166',\n",
    "    'metrics' : ['pageviews', 'avgTimeOnPage'],\n",
    "    'dimensions' : 'pagePath',\n",
    "    'start_date' : start,\n",
    "    'end_date' : end,\n",
    "    'sort' : '-pageviews',\n",
    "    'max_results' : 10000\n",
    "    }"
   ]
  },
  {
   "cell_type": "code",
   "execution_count": 5,
   "metadata": {
    "collapsed": true
   },
   "outputs": [],
   "source": [
    "stats_weekly, metadata = conn.execute_query(**query_pageviews)"
   ]
  },
  {
   "cell_type": "code",
   "execution_count": 6,
   "metadata": {
    "collapsed": false
   },
   "outputs": [
    {
     "data": {
      "text/html": [
       "<div>\n",
       "<table border=\"1\" class=\"dataframe\">\n",
       "  <thead>\n",
       "    <tr style=\"text-align: right;\">\n",
       "      <th></th>\n",
       "      <th>pagePath</th>\n",
       "      <th>pageviews</th>\n",
       "      <th>avgTimeOnPage</th>\n",
       "    </tr>\n",
       "  </thead>\n",
       "  <tbody>\n",
       "    <tr>\n",
       "      <th>0</th>\n",
       "      <td>/</td>\n",
       "      <td>3290560</td>\n",
       "      <td>108.06516047887033</td>\n",
       "    </tr>\n",
       "    <tr>\n",
       "      <th>1</th>\n",
       "      <td>/omniticker/</td>\n",
       "      <td>70642</td>\n",
       "      <td>108.45356863766605</td>\n",
       "    </tr>\n",
       "    <tr>\n",
       "      <th>2</th>\n",
       "      <td>/de/2015_06/leben/679721</td>\n",
       "      <td>47705</td>\n",
       "      <td>295.2537278106509</td>\n",
       "    </tr>\n",
       "    <tr>\n",
       "      <th>3</th>\n",
       "      <td>/classifieds</td>\n",
       "      <td>41839</td>\n",
       "      <td>85.9138770541692</td>\n",
       "    </tr>\n",
       "    <tr>\n",
       "      <th>4</th>\n",
       "      <td>/de/2016_29/international/724751</td>\n",
       "      <td>31023</td>\n",
       "      <td>318.1660416666667</td>\n",
       "    </tr>\n",
       "  </tbody>\n",
       "</table>\n",
       "</div>"
      ],
      "text/plain": [
       "                           pagePath  pageviews       avgTimeOnPage\n",
       "0                                 /    3290560  108.06516047887033\n",
       "1                      /omniticker/      70642  108.45356863766605\n",
       "2          /de/2015_06/leben/679721      47705   295.2537278106509\n",
       "3                      /classifieds      41839    85.9138770541692\n",
       "4  /de/2016_29/international/724751      31023   318.1660416666667"
      ]
     },
     "execution_count": 6,
     "metadata": {},
     "output_type": "execute_result"
    }
   ],
   "source": [
    "stats_weekly.sort_values('pageviews', ascending=False).head()"
   ]
  },
  {
   "cell_type": "code",
   "execution_count": 7,
   "metadata": {
    "collapsed": false
   },
   "outputs": [],
   "source": [
    "stats_weekly['url'] = stats_weekly['pagePath'].str.split('/')\n",
    "\n",
    "for i in range(0, len(stats_weekly['url'])):   \n",
    "    try:\n",
    "        stats_weekly.loc[i, 'article_id'] = stats_weekly['url'][i][4]\n",
    "    except:\n",
    "        stats_weekly.loc[i, 'article_id'] = ''\n",
    "        \n",
    "stats_weekly['article_id'] = pd.to_numeric(stats_weekly['article_id'], errors='coerce')\n",
    "stats_weekly['pageviews'] = pd.to_numeric(stats_weekly['pageviews'], errors='coerce')\n",
    "stats_weekly['avgTimeOnPage'] = pd.to_numeric(stats_weekly['avgTimeOnPage'], errors='coerce')\n",
    "\n",
    "\n",
    "stats_weekly = stats_weekly.dropna()"
   ]
  },
  {
   "cell_type": "code",
   "execution_count": 8,
   "metadata": {
    "collapsed": false
   },
   "outputs": [
    {
     "data": {
      "text/html": [
       "<div>\n",
       "<table border=\"1\" class=\"dataframe\">\n",
       "  <thead>\n",
       "    <tr style=\"text-align: right;\">\n",
       "      <th></th>\n",
       "      <th>article_id</th>\n",
       "      <th>pageviews</th>\n",
       "    </tr>\n",
       "  </thead>\n",
       "  <tbody>\n",
       "    <tr>\n",
       "      <th>0</th>\n",
       "      <td>1.0</td>\n",
       "      <td>757</td>\n",
       "    </tr>\n",
       "    <tr>\n",
       "      <th>1</th>\n",
       "      <td>10.0</td>\n",
       "      <td>91</td>\n",
       "    </tr>\n",
       "    <tr>\n",
       "      <th>2</th>\n",
       "      <td>3915.0</td>\n",
       "      <td>863</td>\n",
       "    </tr>\n",
       "    <tr>\n",
       "      <th>3</th>\n",
       "      <td>3917.0</td>\n",
       "      <td>3848</td>\n",
       "    </tr>\n",
       "    <tr>\n",
       "      <th>4</th>\n",
       "      <td>3918.0</td>\n",
       "      <td>4288</td>\n",
       "    </tr>\n",
       "  </tbody>\n",
       "</table>\n",
       "</div>"
      ],
      "text/plain": [
       "   article_id  pageviews\n",
       "0         1.0        757\n",
       "1        10.0         91\n",
       "2      3915.0        863\n",
       "3      3917.0       3848\n",
       "4      3918.0       4288"
      ]
     },
     "execution_count": 8,
     "metadata": {},
     "output_type": "execute_result"
    }
   ],
   "source": [
    "stats_pageviews = stats_weekly.groupby(by=['article_id']).pageviews.sum()\n",
    "stats_pageviews = stats_pageviews.to_frame(name = 'pageviews')\n",
    "stats_pageviews = stats_pageviews.reset_index()\n",
    "\n",
    "stats_pageviews.head()"
   ]
  },
  {
   "cell_type": "code",
   "execution_count": 9,
   "metadata": {
    "collapsed": false
   },
   "outputs": [
    {
     "data": {
      "text/html": [
       "<div>\n",
       "<table border=\"1\" class=\"dataframe\">\n",
       "  <thead>\n",
       "    <tr style=\"text-align: right;\">\n",
       "      <th></th>\n",
       "      <th>article_id</th>\n",
       "      <th>readtime</th>\n",
       "    </tr>\n",
       "  </thead>\n",
       "  <tbody>\n",
       "    <tr>\n",
       "      <th>0</th>\n",
       "      <td>1.0</td>\n",
       "      <td>59.419062</td>\n",
       "    </tr>\n",
       "    <tr>\n",
       "      <th>1</th>\n",
       "      <td>10.0</td>\n",
       "      <td>127.400000</td>\n",
       "    </tr>\n",
       "    <tr>\n",
       "      <th>2</th>\n",
       "      <td>3915.0</td>\n",
       "      <td>87.659363</td>\n",
       "    </tr>\n",
       "    <tr>\n",
       "      <th>3</th>\n",
       "      <td>3917.0</td>\n",
       "      <td>88.189684</td>\n",
       "    </tr>\n",
       "    <tr>\n",
       "      <th>4</th>\n",
       "      <td>3918.0</td>\n",
       "      <td>122.236328</td>\n",
       "    </tr>\n",
       "  </tbody>\n",
       "</table>\n",
       "</div>"
      ],
      "text/plain": [
       "   article_id    readtime\n",
       "0         1.0   59.419062\n",
       "1        10.0  127.400000\n",
       "2      3915.0   87.659363\n",
       "3      3917.0   88.189684\n",
       "4      3918.0  122.236328"
      ]
     },
     "execution_count": 9,
     "metadata": {},
     "output_type": "execute_result"
    }
   ],
   "source": [
    "stats_readtime = stats_weekly.groupby(by=['article_id']).avgTimeOnPage.mean()\n",
    "stats_readtime = stats_readtime.to_frame(name = 'readtime')\n",
    "stats_readtime = stats_readtime.reset_index()\n",
    "\n",
    "stats_readtime.head()"
   ]
  },
  {
   "cell_type": "code",
   "execution_count": 163,
   "metadata": {
    "collapsed": false
   },
   "outputs": [
    {
     "name": "stdout",
     "output_type": "stream",
     "text": [
      "1041\n",
      "success\n"
     ]
    },
    {
     "data": {
      "text/html": [
       "<div>\n",
       "<table border=\"1\" class=\"dataframe\">\n",
       "  <thead>\n",
       "    <tr style=\"text-align: right;\">\n",
       "      <th></th>\n",
       "      <th>article_id</th>\n",
       "      <th>published</th>\n",
       "      <th>title</th>\n",
       "      <th>topic_id</th>\n",
       "    </tr>\n",
       "  </thead>\n",
       "  <tbody>\n",
       "    <tr>\n",
       "      <th>0</th>\n",
       "      <td>747920</td>\n",
       "      <td>2017-04-24T05:30:02+0200</td>\n",
       "      <td>Hot Dogs – Biss in die Freiheit</td>\n",
       "      <td>1041</td>\n",
       "    </tr>\n",
       "    <tr>\n",
       "      <th>1</th>\n",
       "      <td>746399</td>\n",
       "      <td>2017-04-01T04:50:02+0200</td>\n",
       "      <td>Die Frauenwelt jubelt: Endlich gibts einen Reg...</td>\n",
       "      <td>1041</td>\n",
       "    </tr>\n",
       "    <tr>\n",
       "      <th>2</th>\n",
       "      <td>746325</td>\n",
       "      <td>2017-03-30T15:49:42+0200</td>\n",
       "      <td>Mavic Pro – Fliegen ist schöner!</td>\n",
       "      <td>1041</td>\n",
       "    </tr>\n",
       "    <tr>\n",
       "      <th>3</th>\n",
       "      <td>743802</td>\n",
       "      <td>2017-03-17T04:50:06+0100</td>\n",
       "      <td>Frauen, steht zu eurem Blut!</td>\n",
       "      <td>1041</td>\n",
       "    </tr>\n",
       "    <tr>\n",
       "      <th>4</th>\n",
       "      <td>743934</td>\n",
       "      <td>2017-03-06T04:50:01+0100</td>\n",
       "      <td>Kaffi Lutz, der zu Unrecht verpönte Drink</td>\n",
       "      <td>1041</td>\n",
       "    </tr>\n",
       "  </tbody>\n",
       "</table>\n",
       "</div>"
      ],
      "text/plain": [
       "  article_id                 published  \\\n",
       "0     747920  2017-04-24T05:30:02+0200   \n",
       "1     746399  2017-04-01T04:50:02+0200   \n",
       "2     746325  2017-03-30T15:49:42+0200   \n",
       "3     743802  2017-03-17T04:50:06+0100   \n",
       "4     743934  2017-03-06T04:50:01+0100   \n",
       "\n",
       "                                               title  topic_id  \n",
       "0                    Hot Dogs – Biss in die Freiheit      1041  \n",
       "1  Die Frauenwelt jubelt: Endlich gibts einen Reg...      1041  \n",
       "2                   Mavic Pro – Fliegen ist schöner!      1041  \n",
       "3                       Frauen, steht zu eurem Blut!      1041  \n",
       "4          Kaffi Lutz, der zu Unrecht verpönte Drink      1041  "
      ]
     },
     "execution_count": 163,
     "metadata": {},
     "output_type": "execute_result"
    }
   ],
   "source": [
    "def get_articles_by_topic(id):\n",
    "    print(id)\n",
    "    topics = pd.DataFrame(columns=['article_id', 'topic_id'])\n",
    "    result = pd.DataFrame(columns=['article_id', 'topic_id'])\n",
    "    i = 0;\n",
    "    try:\n",
    "        url = 'http://www.tageswoche.ch/content-api/topics/' + str(id) + '/de/articles'\n",
    "        response = urllib.request.urlopen(url)\n",
    "        reader = codecs.getreader(\"utf-8\")\n",
    "        obj = json.load(reader(response))\n",
    "        itemsCount = obj['pagination']['itemsCount']\n",
    "        itemsPages = np.ceil(itemsCount / 10) + 1\n",
    "        page = 1;\n",
    "        for page in range(1, int(itemsPages)):\n",
    "            try:\n",
    "                url_pages = url + '?page=' + str(page) + '&items_per_page=10'\n",
    "                response = urllib.request.urlopen(url_pages)\n",
    "                reader = codecs.getreader(\"utf-8\")\n",
    "                obj = json.load(reader(response))\n",
    "                for i in range(0, len(obj['items'])):\n",
    "                    result.loc[i, 'article_id'] = obj['items'][i]['number']\n",
    "                    result.loc[i, 'title'] = obj['items'][i]['title']\n",
    "                    result.loc[i, 'published'] = obj['items'][i]['published']\n",
    "            except:\n",
    "                result['article_id'] = ''\n",
    "                result['published'] = ''\n",
    "                result['title'] = ''\n",
    "                pass\n",
    "\n",
    "            topics = topics.append(result)\n",
    "    except:\n",
    "        try:\n",
    "            print('no-pagination')\n",
    "            url = 'http://www.tageswoche.ch/content-api/topics/' + str(id) + '/de/articles'\n",
    "            response = urllib.request.urlopen(url)\n",
    "            reader = codecs.getreader(\"utf-8\")\n",
    "            obj = json.load(reader(response))\n",
    "            for i in range(0, len(obj['items'])):\n",
    "                topics.loc[i, 'article_id'] = obj['items'][i]['number']\n",
    "                topics.loc[i, 'title'] = obj['items'][i]['title']\n",
    "                topics.loc[i, 'published'] = obj['items'][i]['published']\n",
    "        except:\n",
    "            print('error')\n",
    "            pass\n",
    "    \n",
    "    topics['topic_id'] = id\n",
    "    topics = topics.drop_duplicates()\n",
    "    print('success')\n",
    "    #topics = topics.reset_index()\n",
    "    #topics = topics[['article_id', 'topic_id']]\n",
    "    return topics\n",
    "\n",
    "\n",
    "articles_by_topic = get_articles_by_topic(1041)\n",
    "\n",
    "articles_by_topic.head()"
   ]
  },
  {
   "cell_type": "code",
   "execution_count": 164,
   "metadata": {
    "collapsed": false
   },
   "outputs": [
    {
     "name": "stderr",
     "output_type": "stream",
     "text": [
      "/Library/Frameworks/Python.framework/Versions/3.5/lib/python3.5/site-packages/ipykernel/__main__.py:1: FutureWarning: currently extract(expand=None) means expand=False (return Index/Series/DataFrame) but in a future version of pandas this will be changed to expand=True (return DataFrame)\n",
      "  if __name__ == '__main__':\n"
     ]
    },
    {
     "data": {
      "text/html": [
       "<div>\n",
       "<table border=\"1\" class=\"dataframe\">\n",
       "  <thead>\n",
       "    <tr style=\"text-align: right;\">\n",
       "      <th></th>\n",
       "      <th>article_id</th>\n",
       "      <th>published</th>\n",
       "      <th>title</th>\n",
       "      <th>topic_id</th>\n",
       "    </tr>\n",
       "  </thead>\n",
       "  <tbody>\n",
       "    <tr>\n",
       "      <th>0</th>\n",
       "      <td>747920</td>\n",
       "      <td>2017-04-24</td>\n",
       "      <td>Hot Dogs – Biss in die Freiheit</td>\n",
       "      <td>1041</td>\n",
       "    </tr>\n",
       "    <tr>\n",
       "      <th>1</th>\n",
       "      <td>746399</td>\n",
       "      <td>2017-04-01</td>\n",
       "      <td>Die Frauenwelt jubelt: Endlich gibts einen Reg...</td>\n",
       "      <td>1041</td>\n",
       "    </tr>\n",
       "    <tr>\n",
       "      <th>2</th>\n",
       "      <td>746325</td>\n",
       "      <td>2017-03-30</td>\n",
       "      <td>Mavic Pro – Fliegen ist schöner!</td>\n",
       "      <td>1041</td>\n",
       "    </tr>\n",
       "    <tr>\n",
       "      <th>3</th>\n",
       "      <td>743802</td>\n",
       "      <td>2017-03-17</td>\n",
       "      <td>Frauen, steht zu eurem Blut!</td>\n",
       "      <td>1041</td>\n",
       "    </tr>\n",
       "    <tr>\n",
       "      <th>4</th>\n",
       "      <td>743934</td>\n",
       "      <td>2017-03-06</td>\n",
       "      <td>Kaffi Lutz, der zu Unrecht verpönte Drink</td>\n",
       "      <td>1041</td>\n",
       "    </tr>\n",
       "  </tbody>\n",
       "</table>\n",
       "</div>"
      ],
      "text/plain": [
       "  article_id  published                                              title  \\\n",
       "0     747920 2017-04-24                    Hot Dogs – Biss in die Freiheit   \n",
       "1     746399 2017-04-01  Die Frauenwelt jubelt: Endlich gibts einen Reg...   \n",
       "2     746325 2017-03-30                   Mavic Pro – Fliegen ist schöner!   \n",
       "3     743802 2017-03-17                       Frauen, steht zu eurem Blut!   \n",
       "4     743934 2017-03-06          Kaffi Lutz, der zu Unrecht verpönte Drink   \n",
       "\n",
       "   topic_id  \n",
       "0      1041  \n",
       "1      1041  \n",
       "2      1041  \n",
       "3      1041  \n",
       "4      1041  "
      ]
     },
     "execution_count": 164,
     "metadata": {},
     "output_type": "execute_result"
    }
   ],
   "source": [
    "articles_by_topic['published'] = articles_by_topic['published'].str.extract('(\\d\\d\\d\\d-\\d\\d-\\d\\d)')\n",
    "\n",
    "articles_by_topic = articles_by_topic[articles_by_topic.published != '0001-11-30']\n",
    "\n",
    "articles_by_topic['published'] = pd.to_datetime(articles_by_topic['published'], format='%Y-%m-%d')\n",
    "\n",
    "articles_by_topic.head()"
   ]
  },
  {
   "cell_type": "code",
   "execution_count": 165,
   "metadata": {
    "collapsed": false
   },
   "outputs": [
    {
     "data": {
      "text/html": [
       "<div>\n",
       "<table border=\"1\" class=\"dataframe\">\n",
       "  <thead>\n",
       "    <tr style=\"text-align: right;\">\n",
       "      <th></th>\n",
       "      <th>article_id</th>\n",
       "      <th>published</th>\n",
       "      <th>title</th>\n",
       "      <th>topic_id</th>\n",
       "      <th>week</th>\n",
       "      <th>month</th>\n",
       "      <th>year</th>\n",
       "    </tr>\n",
       "  </thead>\n",
       "  <tbody>\n",
       "    <tr>\n",
       "      <th>0</th>\n",
       "      <td>747920</td>\n",
       "      <td>2017-04-24</td>\n",
       "      <td>Hot Dogs – Biss in die Freiheit</td>\n",
       "      <td>1041</td>\n",
       "      <td>17</td>\n",
       "      <td>4</td>\n",
       "      <td>2017</td>\n",
       "    </tr>\n",
       "    <tr>\n",
       "      <th>1</th>\n",
       "      <td>746399</td>\n",
       "      <td>2017-04-01</td>\n",
       "      <td>Die Frauenwelt jubelt: Endlich gibts einen Reg...</td>\n",
       "      <td>1041</td>\n",
       "      <td>13</td>\n",
       "      <td>4</td>\n",
       "      <td>2017</td>\n",
       "    </tr>\n",
       "    <tr>\n",
       "      <th>2</th>\n",
       "      <td>746325</td>\n",
       "      <td>2017-03-30</td>\n",
       "      <td>Mavic Pro – Fliegen ist schöner!</td>\n",
       "      <td>1041</td>\n",
       "      <td>13</td>\n",
       "      <td>3</td>\n",
       "      <td>2017</td>\n",
       "    </tr>\n",
       "    <tr>\n",
       "      <th>3</th>\n",
       "      <td>743802</td>\n",
       "      <td>2017-03-17</td>\n",
       "      <td>Frauen, steht zu eurem Blut!</td>\n",
       "      <td>1041</td>\n",
       "      <td>11</td>\n",
       "      <td>3</td>\n",
       "      <td>2017</td>\n",
       "    </tr>\n",
       "    <tr>\n",
       "      <th>4</th>\n",
       "      <td>743934</td>\n",
       "      <td>2017-03-06</td>\n",
       "      <td>Kaffi Lutz, der zu Unrecht verpönte Drink</td>\n",
       "      <td>1041</td>\n",
       "      <td>10</td>\n",
       "      <td>3</td>\n",
       "      <td>2017</td>\n",
       "    </tr>\n",
       "  </tbody>\n",
       "</table>\n",
       "</div>"
      ],
      "text/plain": [
       "  article_id  published                                              title  \\\n",
       "0     747920 2017-04-24                    Hot Dogs – Biss in die Freiheit   \n",
       "1     746399 2017-04-01  Die Frauenwelt jubelt: Endlich gibts einen Reg...   \n",
       "2     746325 2017-03-30                   Mavic Pro – Fliegen ist schöner!   \n",
       "3     743802 2017-03-17                       Frauen, steht zu eurem Blut!   \n",
       "4     743934 2017-03-06          Kaffi Lutz, der zu Unrecht verpönte Drink   \n",
       "\n",
       "   topic_id  week  month  year  \n",
       "0      1041    17      4  2017  \n",
       "1      1041    13      4  2017  \n",
       "2      1041    13      3  2017  \n",
       "3      1041    11      3  2017  \n",
       "4      1041    10      3  2017  "
      ]
     },
     "execution_count": 165,
     "metadata": {},
     "output_type": "execute_result"
    }
   ],
   "source": [
    "articles_by_topic['week'] = articles_by_topic['published'].dt.week\n",
    "articles_by_topic['month'] = articles_by_topic['published'].dt.month\n",
    "articles_by_topic['year'] = articles_by_topic['published'].dt.year\n",
    "\n",
    "articles_by_topic.head()\n"
   ]
  },
  {
   "cell_type": "code",
   "execution_count": 166,
   "metadata": {
    "collapsed": false
   },
   "outputs": [],
   "source": [
    "articles_by_topic['article_id'] = pd.to_numeric(articles_by_topic['article_id'], errors='coerce')"
   ]
  },
  {
   "cell_type": "code",
   "execution_count": 167,
   "metadata": {
    "collapsed": false
   },
   "outputs": [],
   "source": [
    "stats_merged = stats_pageviews.merge(articles_by_topic, left_on='article_id', right_on='article_id')"
   ]
  },
  {
   "cell_type": "code",
   "execution_count": 168,
   "metadata": {
    "collapsed": false
   },
   "outputs": [
    {
     "data": {
      "text/html": [
       "<div>\n",
       "<table border=\"1\" class=\"dataframe\">\n",
       "  <thead>\n",
       "    <tr style=\"text-align: right;\">\n",
       "      <th></th>\n",
       "      <th>published</th>\n",
       "      <th>article_id</th>\n",
       "      <th>pageviews</th>\n",
       "      <th>title</th>\n",
       "      <th>topic_id</th>\n",
       "      <th>week</th>\n",
       "      <th>month</th>\n",
       "      <th>year</th>\n",
       "    </tr>\n",
       "  </thead>\n",
       "  <tbody>\n",
       "    <tr>\n",
       "      <th>0</th>\n",
       "      <td>2016-09-06</td>\n",
       "      <td>725713.0</td>\n",
       "      <td>4796</td>\n",
       "      <td>Die Edelpuffer</td>\n",
       "      <td>1041</td>\n",
       "      <td>36</td>\n",
       "      <td>9</td>\n",
       "      <td>2016</td>\n",
       "    </tr>\n",
       "    <tr>\n",
       "      <th>1</th>\n",
       "      <td>2016-09-12</td>\n",
       "      <td>729308.0</td>\n",
       "      <td>3373</td>\n",
       "      <td>Schmuck aus Muttermilch ist Pflicht für jedes ...</td>\n",
       "      <td>1041</td>\n",
       "      <td>37</td>\n",
       "      <td>9</td>\n",
       "      <td>2016</td>\n",
       "    </tr>\n",
       "    <tr>\n",
       "      <th>2</th>\n",
       "      <td>2016-09-19</td>\n",
       "      <td>729605.0</td>\n",
       "      <td>483</td>\n",
       "      <td>Hässlich + unpraktisch = Crocs mit Fell</td>\n",
       "      <td>1041</td>\n",
       "      <td>38</td>\n",
       "      <td>9</td>\n",
       "      <td>2016</td>\n",
       "    </tr>\n",
       "    <tr>\n",
       "      <th>3</th>\n",
       "      <td>2016-10-29</td>\n",
       "      <td>729647.0</td>\n",
       "      <td>553</td>\n",
       "      <td>Die erste Herbstmesse-App im Test</td>\n",
       "      <td>1041</td>\n",
       "      <td>43</td>\n",
       "      <td>10</td>\n",
       "      <td>2016</td>\n",
       "    </tr>\n",
       "    <tr>\n",
       "      <th>4</th>\n",
       "      <td>2016-09-26</td>\n",
       "      <td>730529.0</td>\n",
       "      <td>336</td>\n",
       "      <td>Wie geschaffen für Befürworter des neuen Nachr...</td>\n",
       "      <td>1041</td>\n",
       "      <td>39</td>\n",
       "      <td>9</td>\n",
       "      <td>2016</td>\n",
       "    </tr>\n",
       "  </tbody>\n",
       "</table>\n",
       "</div>"
      ],
      "text/plain": [
       "   published  article_id  pageviews  \\\n",
       "0 2016-09-06    725713.0       4796   \n",
       "1 2016-09-12    729308.0       3373   \n",
       "2 2016-09-19    729605.0        483   \n",
       "3 2016-10-29    729647.0        553   \n",
       "4 2016-09-26    730529.0        336   \n",
       "\n",
       "                                               title  topic_id  week  month  \\\n",
       "0                                     Die Edelpuffer      1041    36      9   \n",
       "1  Schmuck aus Muttermilch ist Pflicht für jedes ...      1041    37      9   \n",
       "2            Hässlich + unpraktisch = Crocs mit Fell      1041    38      9   \n",
       "3                  Die erste Herbstmesse-App im Test      1041    43     10   \n",
       "4  Wie geschaffen für Befürworter des neuen Nachr...      1041    39      9   \n",
       "\n",
       "   year  \n",
       "0  2016  \n",
       "1  2016  \n",
       "2  2016  \n",
       "3  2016  \n",
       "4  2016  "
      ]
     },
     "execution_count": 168,
     "metadata": {},
     "output_type": "execute_result"
    }
   ],
   "source": [
    "stats_timespan = stats_merged.set_index(['published'])\n",
    "stats_timespan = stats_timespan.loc[start:end]\n",
    "stats_timespan = stats_timespan.reset_index()\n",
    "\n",
    "stats_timespan.head()"
   ]
  },
  {
   "cell_type": "code",
   "execution_count": 169,
   "metadata": {
    "collapsed": true
   },
   "outputs": [],
   "source": [
    "stats_timespan.to_csv('supersach.csv')"
   ]
  },
  {
   "cell_type": "code",
   "execution_count": 170,
   "metadata": {
    "collapsed": false
   },
   "outputs": [
    {
     "data": {
      "image/png": "[encoded data removed]",
      "text/plain": [
       "<matplotlib.figure.Figure at 0xb51ffcc>"
      ]
     },
     "metadata": {},
     "output_type": "display_data"
    }
   ],
   "source": [
    "\n",
    "sns.set_style(\"whitegrid\")\n",
    "\n",
    "#topics = sns.load_dataset(\"topics_export\")\n",
    "#ax = sns.boxplot(x=topics_stats_details['Seitenaufrufe'])\n",
    "\n",
    "ax = sns.swarmplot(x=stats_timespan['pageviews'], orient='h')\n",
    "\n",
    "ax.yaxis.label.set_visible(False)"
   ]
  },
  {
   "cell_type": "code",
   "execution_count": 145,
   "metadata": {
    "collapsed": false
   },
   "outputs": [],
   "source": [
    "weekly_stats = stats_merged.groupby(['week', 'year']).pageviews.sum()\n",
    "weekly_stats = weekly_stats.to_frame(name = 'weekly_pageviews')\n",
    "weekly_stats = weekly_stats.reset_index()\n",
    "\n",
    "weekly_stats.to_csv('kultwerk_weekly.csv')"
   ]
  },
  {
   "cell_type": "code",
   "execution_count": 132,
   "metadata": {
    "collapsed": true
   },
   "outputs": [],
   "source": [
    "monthly_stats = stats_merged.groupby(['month', 'year']).pageviews.sum()\n",
    "monthly_stats = monthly_stats.to_frame(name = 'monthly_pageviews')\n",
    "monthly_stats = monthly_stats.reset_index()\n",
    "\n",
    "monthly_stats.to_csv('wochenendlich_monthly.csv')"
   ]
  },
  {
   "cell_type": "markdown",
   "metadata": {},
   "source": [
    "# News vs. newswire Baseline"
   ]
  },
  {
   "cell_type": "code",
   "execution_count": 10,
   "metadata": {
    "collapsed": false
   },
   "outputs": [
    {
     "data": {
      "text/html": [
       "<div>\n",
       "<table border=\"1\" class=\"dataframe\">\n",
       "  <thead>\n",
       "    <tr style=\"text-align: right;\">\n",
       "      <th></th>\n",
       "      <th>article_id</th>\n",
       "      <th>comments</th>\n",
       "      <th>published</th>\n",
       "      <th>title</th>\n",
       "      <th>type</th>\n",
       "      <th>url</th>\n",
       "    </tr>\n",
       "  </thead>\n",
       "  <tbody>\n",
       "    <tr>\n",
       "      <th>0</th>\n",
       "      <td>3915.0</td>\n",
       "      <td>0.0</td>\n",
       "      <td>2011-10-07</td>\n",
       "      <td>AGB</td>\n",
       "      <td>static_page</td>\n",
       "      <td>http://www.tageswoche.ch/de/pages/about/3915/a...</td>\n",
       "    </tr>\n",
       "    <tr>\n",
       "      <th>1</th>\n",
       "      <td>3917.0</td>\n",
       "      <td>0.0</td>\n",
       "      <td>2011-10-07</td>\n",
       "      <td>Impressum</td>\n",
       "      <td>static_page</td>\n",
       "      <td>http://www.tageswoche.ch/de/pages/about/3917/i...</td>\n",
       "    </tr>\n",
       "    <tr>\n",
       "      <th>2</th>\n",
       "      <td>3918.0</td>\n",
       "      <td>0.0</td>\n",
       "      <td>2011-10-07</td>\n",
       "      <td>Kontakt</td>\n",
       "      <td>static_page</td>\n",
       "      <td>http://www.tageswoche.ch/de/pages/about/3918/k...</td>\n",
       "    </tr>\n",
       "    <tr>\n",
       "      <th>3</th>\n",
       "      <td>3919.0</td>\n",
       "      <td>0.0</td>\n",
       "      <td>2011-10-07</td>\n",
       "      <td>Community-Leitfaden</td>\n",
       "      <td>static_page</td>\n",
       "      <td>http://www.tageswoche.ch/de/pages/about/3919/c...</td>\n",
       "    </tr>\n",
       "    <tr>\n",
       "      <th>4</th>\n",
       "      <td>3923.0</td>\n",
       "      <td>0.0</td>\n",
       "      <td>2011-10-07</td>\n",
       "      <td>Über uns</td>\n",
       "      <td>static_page</td>\n",
       "      <td>http://www.tageswoche.ch/de/pages/about/3923/u...</td>\n",
       "    </tr>\n",
       "  </tbody>\n",
       "</table>\n",
       "</div>"
      ],
      "text/plain": [
       "   article_id  comments   published                title         type  \\\n",
       "0      3915.0       0.0  2011-10-07                  AGB  static_page   \n",
       "1      3917.0       0.0  2011-10-07            Impressum  static_page   \n",
       "2      3918.0       0.0  2011-10-07              Kontakt  static_page   \n",
       "3      3919.0       0.0  2011-10-07  Community-Leitfaden  static_page   \n",
       "4      3923.0       0.0  2011-10-07             Über uns  static_page   \n",
       "\n",
       "                                                 url  \n",
       "0  http://www.tageswoche.ch/de/pages/about/3915/a...  \n",
       "1  http://www.tageswoche.ch/de/pages/about/3917/i...  \n",
       "2  http://www.tageswoche.ch/de/pages/about/3918/k...  \n",
       "3  http://www.tageswoche.ch/de/pages/about/3919/c...  \n",
       "4  http://www.tageswoche.ch/de/pages/about/3923/u...  "
      ]
     },
     "execution_count": 10,
     "metadata": {},
     "output_type": "execute_result"
    }
   ],
   "source": [
    "def parse_articles(id):\n",
    "    meta = pd.DataFrame(columns=['type', 'article_id'])\n",
    "    url = 'http://www.tageswoche.ch/content-api/articles/'\n",
    "    article_name = url + str(id)\n",
    "    #print(id)\n",
    "    try:\n",
    "        df = pd.read_json(article_name, lines=True)\n",
    "        meta['type'] = df['type']\n",
    "        meta['published'] = df['published']\n",
    "        meta['title'] = df['title']\n",
    "        meta['url'] = df['url']\n",
    "        meta['comments'] = df['comments_count']\n",
    "    except:\n",
    "        pass\n",
    "    meta['article_id'] = id\n",
    "    return meta\n",
    "\n",
    "filepath = 'weekly_report/tawo_stats_meta_baseline.csv'\n",
    "\n",
    "if os.path.exists(filepath):\n",
    "    df = pd.read_csv(filepath, usecols=[1, 2, 3, 4, 5, 6])\n",
    "else:\n",
    "    df = pd.concat([parse_articles(id) for id in stats_pageviews['article_id']])\n",
    "\n",
    "df.head()"
   ]
  },
  {
   "cell_type": "code",
   "execution_count": 11,
   "metadata": {
    "collapsed": false
   },
   "outputs": [
    {
     "name": "stderr",
     "output_type": "stream",
     "text": [
      "/Library/Frameworks/Python.framework/Versions/3.5/lib/python3.5/site-packages/ipykernel/__main__.py:1: FutureWarning: currently extract(expand=None) means expand=False (return Index/Series/DataFrame) but in a future version of pandas this will be changed to expand=True (return DataFrame)\n",
      "  if __name__ == '__main__':\n"
     ]
    },
    {
     "data": {
      "text/html": [
       "<div>\n",
       "<table border=\"1\" class=\"dataframe\">\n",
       "  <thead>\n",
       "    <tr style=\"text-align: right;\">\n",
       "      <th></th>\n",
       "      <th>article_id</th>\n",
       "      <th>comments</th>\n",
       "      <th>published</th>\n",
       "      <th>title</th>\n",
       "      <th>type</th>\n",
       "      <th>url</th>\n",
       "    </tr>\n",
       "  </thead>\n",
       "  <tbody>\n",
       "    <tr>\n",
       "      <th>0</th>\n",
       "      <td>3915.0</td>\n",
       "      <td>0.0</td>\n",
       "      <td>2011-10-07</td>\n",
       "      <td>AGB</td>\n",
       "      <td>static_page</td>\n",
       "      <td>http://www.tageswoche.ch/de/pages/about/3915/a...</td>\n",
       "    </tr>\n",
       "    <tr>\n",
       "      <th>1</th>\n",
       "      <td>3917.0</td>\n",
       "      <td>0.0</td>\n",
       "      <td>2011-10-07</td>\n",
       "      <td>Impressum</td>\n",
       "      <td>static_page</td>\n",
       "      <td>http://www.tageswoche.ch/de/pages/about/3917/i...</td>\n",
       "    </tr>\n",
       "    <tr>\n",
       "      <th>2</th>\n",
       "      <td>3918.0</td>\n",
       "      <td>0.0</td>\n",
       "      <td>2011-10-07</td>\n",
       "      <td>Kontakt</td>\n",
       "      <td>static_page</td>\n",
       "      <td>http://www.tageswoche.ch/de/pages/about/3918/k...</td>\n",
       "    </tr>\n",
       "    <tr>\n",
       "      <th>3</th>\n",
       "      <td>3919.0</td>\n",
       "      <td>0.0</td>\n",
       "      <td>2011-10-07</td>\n",
       "      <td>Community-Leitfaden</td>\n",
       "      <td>static_page</td>\n",
       "      <td>http://www.tageswoche.ch/de/pages/about/3919/c...</td>\n",
       "    </tr>\n",
       "    <tr>\n",
       "      <th>4</th>\n",
       "      <td>3923.0</td>\n",
       "      <td>0.0</td>\n",
       "      <td>2011-10-07</td>\n",
       "      <td>Über uns</td>\n",
       "      <td>static_page</td>\n",
       "      <td>http://www.tageswoche.ch/de/pages/about/3923/u...</td>\n",
       "    </tr>\n",
       "  </tbody>\n",
       "</table>\n",
       "</div>"
      ],
      "text/plain": [
       "   article_id  comments  published                title         type  \\\n",
       "0      3915.0       0.0 2011-10-07                  AGB  static_page   \n",
       "1      3917.0       0.0 2011-10-07            Impressum  static_page   \n",
       "2      3918.0       0.0 2011-10-07              Kontakt  static_page   \n",
       "3      3919.0       0.0 2011-10-07  Community-Leitfaden  static_page   \n",
       "4      3923.0       0.0 2011-10-07             Über uns  static_page   \n",
       "\n",
       "                                                 url  \n",
       "0  http://www.tageswoche.ch/de/pages/about/3915/a...  \n",
       "1  http://www.tageswoche.ch/de/pages/about/3917/i...  \n",
       "2  http://www.tageswoche.ch/de/pages/about/3918/k...  \n",
       "3  http://www.tageswoche.ch/de/pages/about/3919/c...  \n",
       "4  http://www.tageswoche.ch/de/pages/about/3923/u...  "
      ]
     },
     "execution_count": 11,
     "metadata": {},
     "output_type": "execute_result"
    }
   ],
   "source": [
    "df['published'] = df['published'].str.extract('(\\d\\d\\d\\d-\\d\\d-\\d\\d)')\n",
    "\n",
    "df = df[df.published != '0001-11-30']\n",
    "\n",
    "df['published'] = pd.to_datetime(df['published'], format='%Y-%m-%d')\n",
    "\n",
    "df.head()"
   ]
  },
  {
   "cell_type": "code",
   "execution_count": 113,
   "metadata": {
    "collapsed": true
   },
   "outputs": [],
   "source": [
    "df.to_csv(filepath)"
   ]
  },
  {
   "cell_type": "code",
   "execution_count": 15,
   "metadata": {
    "collapsed": false
   },
   "outputs": [
    {
     "data": {
      "text/html": [
       "<div>\n",
       "<table border=\"1\" class=\"dataframe\">\n",
       "  <thead>\n",
       "    <tr style=\"text-align: right;\">\n",
       "      <th></th>\n",
       "      <th>article_id</th>\n",
       "      <th>comments</th>\n",
       "      <th>published</th>\n",
       "      <th>title</th>\n",
       "      <th>type</th>\n",
       "      <th>url</th>\n",
       "      <th>pageviews</th>\n",
       "    </tr>\n",
       "  </thead>\n",
       "  <tbody>\n",
       "    <tr>\n",
       "      <th>0</th>\n",
       "      <td>3915.0</td>\n",
       "      <td>0.0</td>\n",
       "      <td>2011-10-07</td>\n",
       "      <td>AGB</td>\n",
       "      <td>static_page</td>\n",
       "      <td>http://www.tageswoche.ch/de/pages/about/3915/a...</td>\n",
       "      <td>863</td>\n",
       "    </tr>\n",
       "    <tr>\n",
       "      <th>1</th>\n",
       "      <td>3917.0</td>\n",
       "      <td>0.0</td>\n",
       "      <td>2011-10-07</td>\n",
       "      <td>Impressum</td>\n",
       "      <td>static_page</td>\n",
       "      <td>http://www.tageswoche.ch/de/pages/about/3917/i...</td>\n",
       "      <td>3848</td>\n",
       "    </tr>\n",
       "    <tr>\n",
       "      <th>2</th>\n",
       "      <td>3918.0</td>\n",
       "      <td>0.0</td>\n",
       "      <td>2011-10-07</td>\n",
       "      <td>Kontakt</td>\n",
       "      <td>static_page</td>\n",
       "      <td>http://www.tageswoche.ch/de/pages/about/3918/k...</td>\n",
       "      <td>4288</td>\n",
       "    </tr>\n",
       "    <tr>\n",
       "      <th>3</th>\n",
       "      <td>3919.0</td>\n",
       "      <td>0.0</td>\n",
       "      <td>2011-10-07</td>\n",
       "      <td>Community-Leitfaden</td>\n",
       "      <td>static_page</td>\n",
       "      <td>http://www.tageswoche.ch/de/pages/about/3919/c...</td>\n",
       "      <td>594</td>\n",
       "    </tr>\n",
       "    <tr>\n",
       "      <th>4</th>\n",
       "      <td>3923.0</td>\n",
       "      <td>0.0</td>\n",
       "      <td>2011-10-07</td>\n",
       "      <td>Über uns</td>\n",
       "      <td>static_page</td>\n",
       "      <td>http://www.tageswoche.ch/de/pages/about/3923/u...</td>\n",
       "      <td>2511</td>\n",
       "    </tr>\n",
       "  </tbody>\n",
       "</table>\n",
       "</div>"
      ],
      "text/plain": [
       "   article_id  comments  published                title         type  \\\n",
       "0      3915.0       0.0 2011-10-07                  AGB  static_page   \n",
       "1      3917.0       0.0 2011-10-07            Impressum  static_page   \n",
       "2      3918.0       0.0 2011-10-07              Kontakt  static_page   \n",
       "3      3919.0       0.0 2011-10-07  Community-Leitfaden  static_page   \n",
       "4      3923.0       0.0 2011-10-07             Über uns  static_page   \n",
       "\n",
       "                                                 url  pageviews  \n",
       "0  http://www.tageswoche.ch/de/pages/about/3915/a...        863  \n",
       "1  http://www.tageswoche.ch/de/pages/about/3917/i...       3848  \n",
       "2  http://www.tageswoche.ch/de/pages/about/3918/k...       4288  \n",
       "3  http://www.tageswoche.ch/de/pages/about/3919/c...        594  \n",
       "4  http://www.tageswoche.ch/de/pages/about/3923/u...       2511  "
      ]
     },
     "execution_count": 15,
     "metadata": {},
     "output_type": "execute_result"
    }
   ],
   "source": [
    "# merge google stats and article meta data\n",
    "\n",
    "stats_metainfo = df.merge(stats_pageviews, left_on='article_id', right_on='article_id')\n",
    "\n",
    "#df = df.drop_duplicates()\n",
    "\n",
    "stats_metainfo.head()"
   ]
  },
  {
   "cell_type": "code",
   "execution_count": 16,
   "metadata": {
    "collapsed": false
   },
   "outputs": [
    {
     "data": {
      "text/html": [
       "<div>\n",
       "<table border=\"1\" class=\"dataframe\">\n",
       "  <thead>\n",
       "    <tr style=\"text-align: right;\">\n",
       "      <th></th>\n",
       "      <th>article_id</th>\n",
       "      <th>comments</th>\n",
       "      <th>published</th>\n",
       "      <th>title</th>\n",
       "      <th>type</th>\n",
       "      <th>url</th>\n",
       "      <th>pageviews</th>\n",
       "      <th>readtime</th>\n",
       "    </tr>\n",
       "  </thead>\n",
       "  <tbody>\n",
       "    <tr>\n",
       "      <th>0</th>\n",
       "      <td>3915.0</td>\n",
       "      <td>0.0</td>\n",
       "      <td>2011-10-07</td>\n",
       "      <td>AGB</td>\n",
       "      <td>static_page</td>\n",
       "      <td>http://www.tageswoche.ch/de/pages/about/3915/a...</td>\n",
       "      <td>863</td>\n",
       "      <td>87.659363</td>\n",
       "    </tr>\n",
       "    <tr>\n",
       "      <th>1</th>\n",
       "      <td>3917.0</td>\n",
       "      <td>0.0</td>\n",
       "      <td>2011-10-07</td>\n",
       "      <td>Impressum</td>\n",
       "      <td>static_page</td>\n",
       "      <td>http://www.tageswoche.ch/de/pages/about/3917/i...</td>\n",
       "      <td>3848</td>\n",
       "      <td>88.189684</td>\n",
       "    </tr>\n",
       "    <tr>\n",
       "      <th>2</th>\n",
       "      <td>3918.0</td>\n",
       "      <td>0.0</td>\n",
       "      <td>2011-10-07</td>\n",
       "      <td>Kontakt</td>\n",
       "      <td>static_page</td>\n",
       "      <td>http://www.tageswoche.ch/de/pages/about/3918/k...</td>\n",
       "      <td>4288</td>\n",
       "      <td>122.236328</td>\n",
       "    </tr>\n",
       "    <tr>\n",
       "      <th>3</th>\n",
       "      <td>3919.0</td>\n",
       "      <td>0.0</td>\n",
       "      <td>2011-10-07</td>\n",
       "      <td>Community-Leitfaden</td>\n",
       "      <td>static_page</td>\n",
       "      <td>http://www.tageswoche.ch/de/pages/about/3919/c...</td>\n",
       "      <td>594</td>\n",
       "      <td>107.167442</td>\n",
       "    </tr>\n",
       "    <tr>\n",
       "      <th>4</th>\n",
       "      <td>3923.0</td>\n",
       "      <td>0.0</td>\n",
       "      <td>2011-10-07</td>\n",
       "      <td>Über uns</td>\n",
       "      <td>static_page</td>\n",
       "      <td>http://www.tageswoche.ch/de/pages/about/3923/u...</td>\n",
       "      <td>2511</td>\n",
       "      <td>45.893247</td>\n",
       "    </tr>\n",
       "  </tbody>\n",
       "</table>\n",
       "</div>"
      ],
      "text/plain": [
       "   article_id  comments  published                title         type  \\\n",
       "0      3915.0       0.0 2011-10-07                  AGB  static_page   \n",
       "1      3917.0       0.0 2011-10-07            Impressum  static_page   \n",
       "2      3918.0       0.0 2011-10-07              Kontakt  static_page   \n",
       "3      3919.0       0.0 2011-10-07  Community-Leitfaden  static_page   \n",
       "4      3923.0       0.0 2011-10-07             Über uns  static_page   \n",
       "\n",
       "                                                 url  pageviews    readtime  \n",
       "0  http://www.tageswoche.ch/de/pages/about/3915/a...        863   87.659363  \n",
       "1  http://www.tageswoche.ch/de/pages/about/3917/i...       3848   88.189684  \n",
       "2  http://www.tageswoche.ch/de/pages/about/3918/k...       4288  122.236328  \n",
       "3  http://www.tageswoche.ch/de/pages/about/3919/c...        594  107.167442  \n",
       "4  http://www.tageswoche.ch/de/pages/about/3923/u...       2511   45.893247  "
      ]
     },
     "execution_count": 16,
     "metadata": {},
     "output_type": "execute_result"
    }
   ],
   "source": [
    "stats_metainfo = stats_metainfo.merge(stats_readtime, left_on='article_id', right_on='article_id')\n",
    "stats_metainfo.head()"
   ]
  },
  {
   "cell_type": "code",
   "execution_count": 20,
   "metadata": {
    "collapsed": false
   },
   "outputs": [
    {
     "data": {
      "text/html": [
       "<div>\n",
       "<table border=\"1\" class=\"dataframe\">\n",
       "  <thead>\n",
       "    <tr style=\"text-align: right;\">\n",
       "      <th></th>\n",
       "      <th>article_id</th>\n",
       "      <th>comments</th>\n",
       "      <th>published</th>\n",
       "      <th>title</th>\n",
       "      <th>type</th>\n",
       "      <th>url</th>\n",
       "      <th>pageviews</th>\n",
       "      <th>readtime</th>\n",
       "    </tr>\n",
       "  </thead>\n",
       "  <tbody>\n",
       "    <tr>\n",
       "      <th>6</th>\n",
       "      <td>80382.0</td>\n",
       "      <td>0.0</td>\n",
       "      <td>2011-10-27</td>\n",
       "      <td>Die TagesWoche: Mehr als eine Zeitung</td>\n",
       "      <td>news</td>\n",
       "      <td>http://www.tageswoche.ch/de/2011_43/dialog/803...</td>\n",
       "      <td>269</td>\n",
       "      <td>175.650943</td>\n",
       "    </tr>\n",
       "    <tr>\n",
       "      <th>7</th>\n",
       "      <td>80405.0</td>\n",
       "      <td>1.0</td>\n",
       "      <td>2011-10-27</td>\n",
       "      <td>Plündern im Pilzparadies</td>\n",
       "      <td>news</td>\n",
       "      <td>http://www.tageswoche.ch/de/2011_43/basel/8040...</td>\n",
       "      <td>208</td>\n",
       "      <td>408.809524</td>\n",
       "    </tr>\n",
       "    <tr>\n",
       "      <th>8</th>\n",
       "      <td>80423.0</td>\n",
       "      <td>0.0</td>\n",
       "      <td>2011-10-27</td>\n",
       "      <td>Schweizerhalle: Die Lehren  aus dem Unfall</td>\n",
       "      <td>news</td>\n",
       "      <td>http://www.tageswoche.ch/de/2011_43/basel/8042...</td>\n",
       "      <td>314</td>\n",
       "      <td>283.467742</td>\n",
       "    </tr>\n",
       "    <tr>\n",
       "      <th>10</th>\n",
       "      <td>97670.0</td>\n",
       "      <td>6.0</td>\n",
       "      <td>2011-10-29</td>\n",
       "      <td>Der Mann, der die Hölle von Schweizerhalle fot...</td>\n",
       "      <td>news</td>\n",
       "      <td>http://www.tageswoche.ch/de/2011_43/basel/9767...</td>\n",
       "      <td>218</td>\n",
       "      <td>295.545455</td>\n",
       "    </tr>\n",
       "    <tr>\n",
       "      <th>11</th>\n",
       "      <td>103417.0</td>\n",
       "      <td>3.0</td>\n",
       "      <td>2011-11-01</td>\n",
       "      <td>Vor 25 Jahren hielt Basel den Atem an</td>\n",
       "      <td>news</td>\n",
       "      <td>http://www.tageswoche.ch/de/2011_43/basel/1034...</td>\n",
       "      <td>179</td>\n",
       "      <td>133.200000</td>\n",
       "    </tr>\n",
       "  </tbody>\n",
       "</table>\n",
       "</div>"
      ],
      "text/plain": [
       "    article_id  comments  published  \\\n",
       "6      80382.0       0.0 2011-10-27   \n",
       "7      80405.0       1.0 2011-10-27   \n",
       "8      80423.0       0.0 2011-10-27   \n",
       "10     97670.0       6.0 2011-10-29   \n",
       "11    103417.0       3.0 2011-11-01   \n",
       "\n",
       "                                                title  type  \\\n",
       "6               Die TagesWoche: Mehr als eine Zeitung  news   \n",
       "7                            Plündern im Pilzparadies  news   \n",
       "8          Schweizerhalle: Die Lehren  aus dem Unfall  news   \n",
       "10  Der Mann, der die Hölle von Schweizerhalle fot...  news   \n",
       "11              Vor 25 Jahren hielt Basel den Atem an  news   \n",
       "\n",
       "                                                  url  pageviews    readtime  \n",
       "6   http://www.tageswoche.ch/de/2011_43/dialog/803...        269  175.650943  \n",
       "7   http://www.tageswoche.ch/de/2011_43/basel/8040...        208  408.809524  \n",
       "8   http://www.tageswoche.ch/de/2011_43/basel/8042...        314  283.467742  \n",
       "10  http://www.tageswoche.ch/de/2011_43/basel/9767...        218  295.545455  \n",
       "11  http://www.tageswoche.ch/de/2011_43/basel/1034...        179  133.200000  "
      ]
     },
     "execution_count": 20,
     "metadata": {},
     "output_type": "execute_result"
    }
   ],
   "source": [
    "stats_metainfo['type'] = stats_metainfo['type'].astype('category')\n",
    "\n",
    "stats_metainfo_news = stats_metainfo[(stats_metainfo.type == 'news')]\n",
    "\n",
    "stats_metainfo_news.head()"
   ]
  },
  {
   "cell_type": "code",
   "execution_count": 21,
   "metadata": {
    "collapsed": false
   },
   "outputs": [],
   "source": [
    "data_subset_news = stats_metainfo_news.set_index(['published'])\n",
    "\n",
    "data_subset_news_week = data_subset_news.loc[start:end]"
   ]
  },
  {
   "cell_type": "code",
   "execution_count": 22,
   "metadata": {
    "collapsed": true
   },
   "outputs": [],
   "source": [
    "data_subset_news_week = data_subset_news_week.reset_index()"
   ]
  },
  {
   "cell_type": "code",
   "execution_count": 23,
   "metadata": {
    "collapsed": false
   },
   "outputs": [
    {
     "data": {
      "text/plain": [
       "0.4109468480768112"
      ]
     },
     "execution_count": 23,
     "metadata": {},
     "output_type": "execute_result"
    }
   ],
   "source": [
    "data_subset_news_week['comments'].corr(data_subset_news_week['pageviews'], method='pearson')"
   ]
  },
  {
   "cell_type": "code",
   "execution_count": 24,
   "metadata": {
    "collapsed": false
   },
   "outputs": [
    {
     "data": {
      "text/plain": [
       "0.16360008945106336"
      ]
     },
     "execution_count": 24,
     "metadata": {},
     "output_type": "execute_result"
    }
   ],
   "source": [
    "data_subset_news_week['comments'].corr(data_subset_news_week['readtime'], method='pearson')"
   ]
  },
  {
   "cell_type": "code",
   "execution_count": 29,
   "metadata": {
    "collapsed": false
   },
   "outputs": [
    {
     "data": {
      "text/plain": [
       "(0.41094684807681126, 8.9106309167767425e-119)"
      ]
     },
     "execution_count": 29,
     "metadata": {},
     "output_type": "execute_result"
    }
   ],
   "source": [
    "from scipy.stats import pearsonr\n",
    "\n",
    "pearsonr(data_subset_news_week['comments'], data_subset_news_week['pageviews'])"
   ]
  },
  {
   "cell_type": "code",
   "execution_count": 32,
   "metadata": {
    "collapsed": false
   },
   "outputs": [
    {
     "data": {
      "text/plain": [
       "{'access_token': 'EAAaZBFx0Bj1wBACNtalod0YwnRKC97j7ePCZBLl2ZAnd0IhPWJrD2GhZAQOdu3EaQo21RboTCZCp9IiY3LDqcWeUDfGOfNfDpIHbOPo7ygExwdxDksPLpYyllZAZBF1It09FKPG03ZB0zEcSZCE2WuHwgmcAjjyT57vsZD',\n",
       " 'expires_in': 5184000,\n",
       " 'token_type': 'bearer'}"
      ]
     },
     "execution_count": 32,
     "metadata": {},
     "output_type": "execute_result"
    }
   ],
   "source": [
    "import facebook\n",
    "\n",
    "token = 'EAAaZBFx0Bj1wBAMl8ZADFZBQ0BGXdfGuwZA9Nfhl3ArEFel8nvIUWdMWA4FEmOzAs8zWKm72gUUD48sH8fh3fork3bL6gNDgJGm93pwiLLIEsdxp8Mmj4wZBHJKgKHifdqSOak8aAW53krXbmIPrlH6mSgbPPoY6RxZB98tvciX9fsF93Vi0scDfR2sMH5hcsZD'\n",
    "graph = facebook.GraphAPI(access_token=token, version='2.8')\n",
    "\n",
    "app_id = '1897856340430684' # Obtained from https://developers.facebook.com/\n",
    "app_secret = 'afd88726fc4b0c589e30f5cd1293b92e' # Obtained from https://developers.facebook.com/\n",
    "\n",
    "# Extend the expiration time of a valid OAuth access token.\n",
    "extended_token = graph.extend_access_token(app_id, app_secret)\n",
    "extended_token #verify that it expires in 60 days"
   ]
  },
  {
   "cell_type": "code",
   "execution_count": 25,
   "metadata": {
    "collapsed": false
   },
   "outputs": [
    {
     "data": {
      "text/html": [
       "<div>\n",
       "<table border=\"1\" class=\"dataframe\">\n",
       "  <thead>\n",
       "    <tr style=\"text-align: right;\">\n",
       "      <th></th>\n",
       "      <th>url</th>\n",
       "      <th>share_count</th>\n",
       "    </tr>\n",
       "  </thead>\n",
       "  <tbody>\n",
       "    <tr>\n",
       "      <th>0</th>\n",
       "      <td>http://www.tageswoche.ch/de/2012_16/kultur/416...</td>\n",
       "      <td>25.0</td>\n",
       "    </tr>\n",
       "    <tr>\n",
       "      <th>1</th>\n",
       "      <td>http://www.tageswoche.ch/de/2013_41/kultur/579...</td>\n",
       "      <td>79.0</td>\n",
       "    </tr>\n",
       "    <tr>\n",
       "      <th>2</th>\n",
       "      <td>http://www.tageswoche.ch/de/2014_28/basel/6640...</td>\n",
       "      <td>464.0</td>\n",
       "    </tr>\n",
       "    <tr>\n",
       "      <th>3</th>\n",
       "      <td>http://www.tageswoche.ch/de/2015_43/basel/7017...</td>\n",
       "      <td>12.0</td>\n",
       "    </tr>\n",
       "    <tr>\n",
       "      <th>4</th>\n",
       "      <td>http://www.tageswoche.ch/de/2015_52/leben/7071...</td>\n",
       "      <td>47.0</td>\n",
       "    </tr>\n",
       "  </tbody>\n",
       "</table>\n",
       "</div>"
      ],
      "text/plain": [
       "                                                 url  share_count\n",
       "0  http://www.tageswoche.ch/de/2012_16/kultur/416...         25.0\n",
       "1  http://www.tageswoche.ch/de/2013_41/kultur/579...         79.0\n",
       "2  http://www.tageswoche.ch/de/2014_28/basel/6640...        464.0\n",
       "3  http://www.tageswoche.ch/de/2015_43/basel/7017...         12.0\n",
       "4  http://www.tageswoche.ch/de/2015_52/leben/7071...         47.0"
      ]
     },
     "execution_count": 25,
     "metadata": {},
     "output_type": "execute_result"
    }
   ],
   "source": [
    "def get_facebook_shares(url):\n",
    "    shares = pd.DataFrame(columns=['url', 'share_count'])\n",
    "    shares_new = ['', '']  \n",
    "    shares.loc[len(shares)] = shares_new\n",
    "    try:\n",
    "        post = graph.get_object(id=url)\n",
    "        shares['share_count'] = post['share']['share_count']\n",
    "        shares['url'] = url\n",
    "    except:\n",
    "        pass\n",
    "        \n",
    "    return shares\n",
    "\n",
    "\n",
    "filepath = 'fb_baseline.csv'\n",
    "\n",
    "if os.path.exists(filepath):\n",
    "    share_stats = pd.read_csv(filepath, usecols=[1, 2])\n",
    "else:\n",
    "    share_stats = pd.concat([get_facebook_shares(url) for url in data_subset_news_week['url']])\n",
    "    share_stats = share_stats.reset_index()\n",
    "    share_stats = share_stats[[1,2]]\n",
    "\n",
    "\n",
    "share_stats.head()"
   ]
  },
  {
   "cell_type": "code",
   "execution_count": 34,
   "metadata": {
    "collapsed": true
   },
   "outputs": [],
   "source": [
    "share_stats.to_csv('fb_baseline.csv')"
   ]
  },
  {
   "cell_type": "code",
   "execution_count": 26,
   "metadata": {
    "collapsed": true
   },
   "outputs": [],
   "source": [
    "data_subset_erfolgsindex = data_subset_news_week.merge(share_stats, left_on='url', right_on='url')"
   ]
  },
  {
   "cell_type": "code",
   "execution_count": 27,
   "metadata": {
    "collapsed": false
   },
   "outputs": [
    {
     "data": {
      "text/html": [
       "<div>\n",
       "<table border=\"1\" class=\"dataframe\">\n",
       "  <thead>\n",
       "    <tr style=\"text-align: right;\">\n",
       "      <th></th>\n",
       "      <th>published</th>\n",
       "      <th>article_id</th>\n",
       "      <th>comments</th>\n",
       "      <th>title</th>\n",
       "      <th>type</th>\n",
       "      <th>url</th>\n",
       "      <th>pageviews</th>\n",
       "      <th>readtime</th>\n",
       "      <th>share_count</th>\n",
       "    </tr>\n",
       "  </thead>\n",
       "  <tbody>\n",
       "    <tr>\n",
       "      <th>0</th>\n",
       "      <td>2017-04-26</td>\n",
       "      <td>416478.0</td>\n",
       "      <td>0.0</td>\n",
       "      <td>Brutal abstrakt – Vor 80 Jahren malte Picasso ...</td>\n",
       "      <td>news</td>\n",
       "      <td>http://www.tageswoche.ch/de/2012_16/kultur/416...</td>\n",
       "      <td>328</td>\n",
       "      <td>179.160221</td>\n",
       "      <td>25.0</td>\n",
       "    </tr>\n",
       "    <tr>\n",
       "      <th>1</th>\n",
       "      <td>2016-08-23</td>\n",
       "      <td>579416.0</td>\n",
       "      <td>1.0</td>\n",
       "      <td>Hoosesaggmuseum – der aufregendste halbe Quadr...</td>\n",
       "      <td>news</td>\n",
       "      <td>http://www.tageswoche.ch/de/2013_41/kultur/579...</td>\n",
       "      <td>1183</td>\n",
       "      <td>214.014737</td>\n",
       "      <td>79.0</td>\n",
       "    </tr>\n",
       "    <tr>\n",
       "      <th>2</th>\n",
       "      <td>2016-08-06</td>\n",
       "      <td>664044.0</td>\n",
       "      <td>5.0</td>\n",
       "      <td>In diesen Restaurants lassen sich Sommerabende...</td>\n",
       "      <td>news</td>\n",
       "      <td>http://www.tageswoche.ch/de/2014_28/basel/6640...</td>\n",
       "      <td>25040</td>\n",
       "      <td>175.173858</td>\n",
       "      <td>464.0</td>\n",
       "    </tr>\n",
       "    <tr>\n",
       "      <th>3</th>\n",
       "      <td>2016-08-10</td>\n",
       "      <td>701709.0</td>\n",
       "      <td>0.0</td>\n",
       "      <td>Hans Dunkel hängt sein Hobby an Nägel</td>\n",
       "      <td>news</td>\n",
       "      <td>http://www.tageswoche.ch/de/2015_43/basel/7017...</td>\n",
       "      <td>469</td>\n",
       "      <td>185.314815</td>\n",
       "      <td>12.0</td>\n",
       "    </tr>\n",
       "    <tr>\n",
       "      <th>4</th>\n",
       "      <td>2016-12-31</td>\n",
       "      <td>707117.0</td>\n",
       "      <td>5.0</td>\n",
       "      <td>Mehr auf den Bauch und weniger auf die Statist...</td>\n",
       "      <td>news</td>\n",
       "      <td>http://www.tageswoche.ch/de/2015_52/leben/7071...</td>\n",
       "      <td>298</td>\n",
       "      <td>202.802920</td>\n",
       "      <td>47.0</td>\n",
       "    </tr>\n",
       "  </tbody>\n",
       "</table>\n",
       "</div>"
      ],
      "text/plain": [
       "   published  article_id  comments  \\\n",
       "0 2017-04-26    416478.0       0.0   \n",
       "1 2016-08-23    579416.0       1.0   \n",
       "2 2016-08-06    664044.0       5.0   \n",
       "3 2016-08-10    701709.0       0.0   \n",
       "4 2016-12-31    707117.0       5.0   \n",
       "\n",
       "                                               title  type  \\\n",
       "0  Brutal abstrakt – Vor 80 Jahren malte Picasso ...  news   \n",
       "1  Hoosesaggmuseum – der aufregendste halbe Quadr...  news   \n",
       "2  In diesen Restaurants lassen sich Sommerabende...  news   \n",
       "3              Hans Dunkel hängt sein Hobby an Nägel  news   \n",
       "4  Mehr auf den Bauch und weniger auf die Statist...  news   \n",
       "\n",
       "                                                 url  pageviews    readtime  \\\n",
       "0  http://www.tageswoche.ch/de/2012_16/kultur/416...        328  179.160221   \n",
       "1  http://www.tageswoche.ch/de/2013_41/kultur/579...       1183  214.014737   \n",
       "2  http://www.tageswoche.ch/de/2014_28/basel/6640...      25040  175.173858   \n",
       "3  http://www.tageswoche.ch/de/2015_43/basel/7017...        469  185.314815   \n",
       "4  http://www.tageswoche.ch/de/2015_52/leben/7071...        298  202.802920   \n",
       "\n",
       "   share_count  \n",
       "0         25.0  \n",
       "1         79.0  \n",
       "2        464.0  \n",
       "3         12.0  \n",
       "4         47.0  "
      ]
     },
     "execution_count": 27,
     "metadata": {},
     "output_type": "execute_result"
    }
   ],
   "source": [
    "data_subset_erfolgsindex.head()"
   ]
  },
  {
   "cell_type": "code",
   "execution_count": 30,
   "metadata": {
    "collapsed": false
   },
   "outputs": [
    {
     "data": {
      "text/plain": [
       "(0.51632760397497979, 7.7455844549767983e-166)"
      ]
     },
     "execution_count": 30,
     "metadata": {},
     "output_type": "execute_result"
    }
   ],
   "source": [
    "pearsonr(data_subset_erfolgsindex['share_count'], data_subset_erfolgsindex['pageviews'])"
   ]
  },
  {
   "cell_type": "code",
   "execution_count": 31,
   "metadata": {
    "collapsed": false
   },
   "outputs": [
    {
     "data": {
      "text/plain": [
       "(0.16077484664863845, 1.5050841717320149e-15)"
      ]
     },
     "execution_count": 31,
     "metadata": {},
     "output_type": "execute_result"
    }
   ],
   "source": [
    "pearsonr(data_subset_erfolgsindex['share_count'], data_subset_erfolgsindex['readtime'])"
   ]
  },
  {
   "cell_type": "code",
   "execution_count": 32,
   "metadata": {
    "collapsed": false
   },
   "outputs": [
    {
     "data": {
      "text/plain": [
       "(0.26778764692488466, 3.2700492626576472e-41)"
      ]
     },
     "execution_count": 32,
     "metadata": {},
     "output_type": "execute_result"
    }
   ],
   "source": [
    "pearsonr(data_subset_erfolgsindex['pageviews'], data_subset_erfolgsindex['readtime'])"
   ]
  },
  {
   "cell_type": "code",
   "execution_count": 122,
   "metadata": {
    "collapsed": false
   },
   "outputs": [
    {
     "data": {
      "text/plain": [
       "1729.5910499139416"
      ]
     },
     "execution_count": 122,
     "metadata": {},
     "output_type": "execute_result"
    },
    {
     "data": {
      "text/plain": [
       "1082.4130707251566"
      ]
     },
     "execution_count": 122,
     "metadata": {},
     "output_type": "execute_result"
    },
    {
     "data": {
      "text/plain": [
       "1051.0"
      ]
     },
     "execution_count": 122,
     "metadata": {},
     "output_type": "execute_result"
    },
    {
     "data": {
      "text/plain": [
       "420.0"
      ]
     },
     "execution_count": 122,
     "metadata": {},
     "output_type": "execute_result"
    },
    {
     "data": {
      "text/plain": [
       "2905"
      ]
     },
     "execution_count": 122,
     "metadata": {},
     "output_type": "execute_result"
    },
    {
     "data": {
      "text/plain": [
       "5585"
      ]
     },
     "execution_count": 122,
     "metadata": {},
     "output_type": "execute_result"
    }
   ],
   "source": [
    "# Save metainfos\n",
    "\n",
    "data_subset_news_week['pageviews'].mean()\n",
    "data_subset_news['pageviews'].mean()\n",
    "\n",
    "data_subset_news_week['pageviews'].median()\n",
    "data_subset_news['pageviews'].median()\n",
    "\n",
    "data_subset_news_week['article_id'].count()\n",
    "data_subset_news['article_id'].count()"
   ]
  }
 ],
 "metadata": {
  "kernelspec": {
   "display_name": "Python 3",
   "language": "python",
   "name": "python3"
  },
  "language_info": {
   "codemirror_mode": {
    "name": "ipython",
    "version": 3
   },
   "file_extension": ".py",
   "mimetype": "text/x-python",
   "name": "python",
   "nbconvert_exporter": "python",
   "pygments_lexer": "ipython3",
   "version": "3.5.0"
  }
 },
 "nbformat": 4,
 "nbformat_minor": 1
}
